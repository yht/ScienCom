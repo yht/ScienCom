{
 "cells": [
  {
   "cell_type": "markdown",
   "metadata": {
    "slideshow": {
     "slide_type": "slide"
    }
   },
   "source": [
    "<center><img alt=\"\" src=\"img/Cover_ScienCom.jpg\"/></center> \n",
    "<center><h1><strong>Dr. Taufik Sutanto, MScTech</strong></h1></center>"
   ]
  },
  {
   "cell_type": "markdown",
   "metadata": {
    "slideshow": {
     "slide_type": "slide"
    }
   },
   "source": [
    "# <font color=\"blue\">Outline:</font>\n",
    "\n",
    "* Pendahuluan Google Colaboratory\n",
    "* Pendahuluan Python\n",
    "* Basic Graph in NetworkX (Python)\n",
    " - Creating Graph (adding nodes & Edges, and weights)\n",
    " - Basic Visualization\n",
    " - Degree, shortest path, Spanning Tree\n",
    "* Community Detection\n",
    "* Partition Analysis\n",
    "* Centrality Analysis\n",
    "* Advanced Visualization\n",
    "* Exporting to Gephi\n",
    "\n",
    "https://networkx.github.io/documentation/networkx-1.10/reference/generated/networkx.readwrite.gexf.write_gexf.html#write-gexf"
   ]
  },
  {
   "cell_type": "markdown",
   "metadata": {
    "slideshow": {
     "slide_type": "slide"
    }
   },
   "source": [
    "# <font color=\"blue\"> Hardware Requirements:</font>\n",
    "\n",
    "\n",
    "<ol>\n",
    "\t<li><strong>Python 3.6</strong></li>\n",
    "\t<li>Beberapa fungsi di workshop ini <strong><font color=\"blue\">membutuhkan koneksi internet</font></strong> ketika di eksekusi.</li>\n",
    "\t<li>Dianjurkan peserta mengupdate OS (Windows/Linux) sebelum mengikuti workshop.</li>\n",
    "\t<li>Apple Macintosh <u><strong>tidak disarankan</strong></u> untuk digunakan untuk keperluan pengolahan data di Data Science/Machine Learning.</li>\n",
    "</ol>\n",
    "\n",
    "<p>Ekspektasi spesifikasi komputer:</p>\n",
    "\n",
    "<ol>\n",
    "\t<li><strong>OS</strong>: Windows/Linux/Mac <strong><font color=\"blue\">64bit</font></strong>... <em>with recent updates</em>.</li>\n",
    "\t<li><strong>RAM</strong>: 4Gb or More</li>\n",
    "\t<li><strong>CPU</strong>: minimum 1 Ghz</li>\n",
    "</ol>\n"
   ]
  },
  {
   "cell_type": "markdown",
   "metadata": {
    "slideshow": {
     "slide_type": "slide"
    }
   },
   "source": [
    "# <font color=\"blue\">Workshop Requirements/Assumptions:</font>\n",
    "\n",
    "* Minor Statistics\n",
    "* Minor (any) programming\n",
    "* Dikarenakan keterbatasan waktu, tidak memungkinkan membahas semua aspek Data Science/Machine Learning\n",
    "* Workshop lebih fokus ke contoh aplikasi dengan pemahaman teori ke Mathematica/Statistical/Computational Thinking."
   ]
  },
  {
   "cell_type": "markdown",
   "metadata": {
    "slideshow": {
     "slide_type": "slide"
    }
   },
   "source": [
    "# <font color=\"blue\"> Google Colaboratory </font>\n",
    "\n",
    "* Cocok untuk komputer yang memiliki spesifikasi yang relatif minim dan atau OS yang digunakan Macintosh. \n",
    "* Karena semua perintah dijalankan di server Google (cloud), maka membutuhkan koneksi internet yang baik:\n",
    "1. Kunjungi https://bit.ly/sciencom-30okt\n",
    "2. Login dengan Username dan password Google (gmail)\n",
    "3. Codes sudah bisa dijalankan dengan memilih cell yang akan dijalankan, lalu menekan tombol \"ctrl+Enter\" di keyboard. Atau \"Tombol Play\" di HP/Mobile Phones. "
   ]
  },
  {
   "cell_type": "markdown",
   "metadata": {},
   "source": [
    "# <center><font color=\"blue\"> Why Python (Interpreter and-or compiler)\n",
    "\n",
    "* Free\n",
    "* Community support\n",
    "* Growing in needs & popularity\n",
    "* Portable - Multi Platform\n",
    "* “Fast” http://s.id/4lP \n",
    "* Rich libraries/Modules (termasuk Matematika, Statistika, Data Science/Machine Learning, Big Data, etc)\n",
    "* Easier to learn (learning curve not steep)\n",
    "* OOP, etc\n",
    "\n",
    "<center><img alt=\"\" src=\"img/1_why_python.jpg\" style=\"width: 800px; height: 516px;\" />"
   ]
  },
  {
   "cell_type": "markdown",
   "metadata": {},
   "source": [
    "# <center><font color=\"blue\"> Python Benchmarks\n",
    "\n",
    "<ul>\n",
    "\t<li><a href=\"https://tau-data.id/python-showdown/\" target=\"_blank\">https://tau-data.id/python-showdown/</a></li>\n",
    "\t<li><img alt=\"\" src=\"img/1_Python_VS_TheRest.png\" style=\"width: 750px; height: 387px;\" /></li>\n",
    "</ul>\n"
   ]
  },
  {
   "cell_type": "markdown",
   "metadata": {},
   "source": [
    "# <center><font color=\"blue\"> Filosofi &amp; Sejarah singkat Python\n",
    "    \n",
    "<p>Python diperkenalkan di sekitar tahun 1980 oleh&nbsp;<strong>Guido van Rossum</strong>.</p>\n",
    "\n",
    "<p>Python memiliki system yang &quot;mirip&quot; seperti Java (multi platform dan memiliki kernel), namun lebih mudah (tanpa deklarasi variabel seperti matlab). Python juga ringan sehingga supported di IoT/SBC devices.</p>\n",
    "\n",
    "<p>Tidak seperti <strong>R</strong> atau PHP yang merupakan specific programming language, Python adalah Full Programming Language yang dapat diaplikasikan pada:</p>\n",
    "\n",
    "<ol>\n",
    "\t<li>Desktop Application (GUI/Service)</li>\n",
    "\t<li>Web Programming (Jango/Flask)</li>\n",
    "\t<li>Analisa Data (scikit, Pandas, gensim, etc)</li>\n",
    "\t<li>Mobile App Programming (android, ios)</li>\n",
    "\t<li>Big Data distributed Programming</li>\n",
    "\t<li>GPU Programming in Deep Learning, etc</li>\n",
    "</ol>\n",
    "<center><img alt=\"\" src=\"img/PyLogo.png\" style=\"width: 200px; height: 200px;\" /></center>"
   ]
  },
  {
   "cell_type": "markdown",
   "metadata": {},
   "source": [
    "# <center><font color=\"blue\"> Python Distro\n",
    "* \"Vanilla\" Python: https://www.python.org/\n",
    "* Anaconda : https://www.anaconda.com/distribution/#download-section\n",
    "* WinPython: https://sourceforge.net/projects/winpython/files/ ==> **Recommended** for academics\n",
    "\n",
    "Catt: Kita akan menggunakan **Python 3.6**"
   ]
  },
  {
   "cell_type": "markdown",
   "metadata": {},
   "source": [
    "<h1><font color=\"blue\">Sebelum dimulai; Resources yang sangat baik untuk belajar Python</font></h1>\n",
    "\n",
    "* Python basic: https://www.python-course.eu/python3_history_and_philosophy.php \n",
    "* Data Science Basic: https://scikit-learn.org/stable/tutorial/index.html\n",
    "* Advance Python: http://andy.terrel.us/blog/2012/09/27/starting-with-python/\n",
    "* Visualisasi di Python: https://matplotlib.org/gallery.html"
   ]
  },
  {
   "cell_type": "code",
   "execution_count": 6,
   "metadata": {
    "slideshow": {
     "slide_type": "slide"
    }
   },
   "outputs": [
    {
     "name": "stdout",
     "output_type": "stream",
     "text": [
      "3 5\n"
     ]
    }
   ],
   "source": [
    "# Python tidak membutuhkan tanda semi colon \";\" di akhir setiap baris seperti R, Java, atau C\n",
    "n = 5\n",
    "b = 3\n",
    "print(b, n)"
   ]
  },
  {
   "cell_type": "code",
   "execution_count": 1,
   "metadata": {},
   "outputs": [
    {
     "name": "stdout",
     "output_type": "stream",
     "text": [
      "3 5\n"
     ]
    }
   ],
   "source": [
    "# tapi semi-colon bisa juga digunakan di Python untuk mengakhiri \"satu instruksi\"\n",
    "n = 5; b = 3\n",
    "print(b,n)"
   ]
  },
  {
   "cell_type": "code",
   "execution_count": 2,
   "metadata": {},
   "outputs": [
    {
     "name": "stdout",
     "output_type": "stream",
     "text": [
      "3 7\n"
     ]
    }
   ],
   "source": [
    "a, b = 3, 7\n",
    "print(a,b)"
   ]
  },
  {
   "cell_type": "code",
   "execution_count": 10,
   "metadata": {
    "slideshow": {
     "slide_type": "slide"
    }
   },
   "outputs": [
    {
     "name": "stdout",
     "output_type": "stream",
     "text": [
      "teks ini sudah diluar \"IF\"\n"
     ]
    }
   ],
   "source": [
    "# Python menggunakan \"indenting\" dan bukan tanda kurung seperti banyak bahasa pemrograman lain\n",
    "\n",
    "x = -3\n",
    "if x>0:\n",
    "    print('ini menggunakan tab')\n",
    "    print('ini menggunakan spasi x4')\n",
    "    \n",
    "print('teks ini sudah diluar \"IF\"')\n",
    "# inden dinyatakan dengan \"tab\" atau \"spasi 4x\""
   ]
  },
  {
   "cell_type": "code",
   "execution_count": 11,
   "metadata": {},
   "outputs": [
    {
     "name": "stdout",
     "output_type": "stream",
     "text": [
      "hi\n",
      "hi\n"
     ]
    }
   ],
   "source": [
    "# Teks di python bisa menggunakan ' atau \"\n",
    "\n",
    "print('hi')\n",
    "print(\"hi\")\n",
    "\n",
    "# tanda \"\\\" digunakan untuk merubah character khusus di python menjadi character biasa\n",
    "# Sangat berguna bagi Data Scientist saat menangani data dari database"
   ]
  },
  {
   "cell_type": "markdown",
   "metadata": {},
   "source": [
    "# Struktur data dasar di Python¶"
   ]
  },
  {
   "cell_type": "code",
   "execution_count": 4,
   "metadata": {
    "slideshow": {
     "slide_type": "slide"
    }
   },
   "outputs": [],
   "source": [
    "# Di Python variabel tidak perlu deklarasi (seperti matlab)\n",
    "a = 2\n",
    "b = 3.4\n",
    "c = 'teks'\n",
    "d = True"
   ]
  },
  {
   "cell_type": "code",
   "execution_count": 6,
   "metadata": {
    "slideshow": {
     "slide_type": "slide"
    }
   },
   "outputs": [
    {
     "name": "stdout",
     "output_type": "stream",
     "text": [
      "<class 'int'> <class 'float'> <class 'str'> <class 'bool'>\n"
     ]
    }
   ],
   "source": [
    "# Untuk mengetahui tipe suatu variabel kita bisa menggunakan perintah \"type\"\n",
    "print(type(a), type(b), type(c), type(d))"
   ]
  },
  {
   "cell_type": "code",
   "execution_count": 16,
   "metadata": {},
   "outputs": [],
   "source": [
    "# \"Array\" dasar di Python bisa berupa List, Tuple, Set atau Dictionary\n",
    "L = [1, 5, 7, 2] # List\n",
    "T = (1, 5, 7, 2) # Tuple, imutable = constant\n",
    "S = set([1, 5, 7, 2]) # Set (Himpunan), unordered, unique\n",
    "D = {0:1, 1:5, 2:7, 3:2, 'empat':4, 5:'lima'} # Dictionary\n",
    "# Apa beda semua jenis \"array\" diatas?"
   ]
  },
  {
   "cell_type": "code",
   "execution_count": 24,
   "metadata": {},
   "outputs": [
    {
     "data": {
      "text/plain": [
       "[1, 5]"
      ]
     },
     "execution_count": 24,
     "metadata": {},
     "output_type": "execute_result"
    }
   ],
   "source": [
    "# Slicing List/Tuple\n",
    "#L[3] # ini akses satu elemen (pertama)\n",
    "L[:2] # akses 2 elemen pertama\n",
    "#L[-1] # satu elemen terakhir\n",
    "#L[-3:] # 3 elemen terakhir\n",
    "#L[1:3] # elemen ke 2 dan 3\n",
    "\n",
    "# Append, extend, del"
   ]
  },
  {
   "cell_type": "markdown",
   "metadata": {
    "slideshow": {
     "slide_type": "slide"
    }
   },
   "source": [
    "# All entities in Python are all objects"
   ]
  },
  {
   "cell_type": "code",
   "execution_count": null,
   "metadata": {},
   "outputs": [],
   "source": [
    "# press \"tab\" after the dot\n",
    "A."
   ]
  },
  {
   "cell_type": "markdown",
   "metadata": {},
   "source": [
    "# List bukan \"Array\""
   ]
  },
  {
   "cell_type": "code",
   "execution_count": null,
   "metadata": {},
   "outputs": [],
   "source": [
    "A = [2.3, 'd', True, 678]\n",
    "A"
   ]
  },
  {
   "cell_type": "markdown",
   "metadata": {},
   "source": [
    "# Hati-hati dengan \"Reference to Variable\" di Python"
   ]
  },
  {
   "cell_type": "code",
   "execution_count": null,
   "metadata": {},
   "outputs": [],
   "source": [
    "A = [2, 3, 4]\n",
    "B = A\n",
    "A[0] = 99\n",
    "print(A)"
   ]
  },
  {
   "cell_type": "code",
   "execution_count": null,
   "metadata": {},
   "outputs": [],
   "source": [
    "print(B)"
   ]
  },
  {
   "cell_type": "code",
   "execution_count": null,
   "metadata": {
    "slideshow": {
     "slide_type": "slide"
    }
   },
   "outputs": [],
   "source": [
    "A = [2, 3, 4]\n",
    "B = A.copy()\n",
    "A[0] = 99\n",
    "print(A, B)"
   ]
  },
  {
   "cell_type": "code",
   "execution_count": 25,
   "metadata": {},
   "outputs": [
    {
     "name": "stdout",
     "output_type": "stream",
     "text": [
      "2\n"
     ]
    }
   ],
   "source": [
    "# Modulo (sisa pembagian) di tulis dengan tanda \"%\"\n",
    "\n",
    "print(  8%3 )"
   ]
  },
  {
   "cell_type": "code",
   "execution_count": 26,
   "metadata": {},
   "outputs": [
    {
     "name": "stdout",
     "output_type": "stream",
     "text": [
      "8\n"
     ]
    }
   ],
   "source": [
    "# Exponen/pangkat di tulis dengan tanda \"**\"\n",
    "\n",
    "print(  2**3 )"
   ]
  },
  {
   "cell_type": "code",
   "execution_count": null,
   "metadata": {},
   "outputs": [],
   "source": [
    "# Boolean Statements in Python\n",
    "a = True \n",
    "b = False\n",
    "\n",
    "print('Negasi ditulis dengan \"not\" : ', not a)\n",
    "print('Tidak sama dengan ditulis dengan \"!\" : ', a!=b)\n",
    "print('\"AND\" ditulis dengan tanda \"&\" atau \"and\" :' , a & b, \" = \",  a and b)\n",
    "print('\"OR\" ditulis dengan tanda \"|\" atau \"or\" :' , a | b, \" = \",  a or b)"
   ]
  },
  {
   "cell_type": "markdown",
   "metadata": {},
   "source": [
    "<center><img alt=\"\" src=\"img/4_IF_Components_.png\" style=\"width: 800px; height: 424px;\" />"
   ]
  },
  {
   "cell_type": "markdown",
   "metadata": {},
   "source": [
    "<h1><font color=\"blue\">Sifat Percabangan:</font></h1>\n",
    "\n",
    "* \"Statement\" adalah variabel bernilai boolean (true/False) atau \n",
    "* \"Statement\" pernyataan bernilai boolean (misal: if x>3)\n",
    "* \"ELSE\" tidak memerlukan Statement\n",
    "* Baik ELSE IF maupun ELSE keduanya pilihan (opsional)/tidak wajib ada.\n",
    "* Jika salah satu Statement bernilai True dan tindakannya dilakukan, maka seluruh baris percabangan dibawahnya **tidak** dilakukan/eksekusi.\n",
    "* Jika percabangan tidak memiliki \"ELSE\" maka ada kemungkinan seluruh \"Actions\" tidak ada yang dilakukan.\n",
    "* Jika percabangan memiliki komponen \"ELSE\" salah satu \"Actions\" pasti dilakukan."
   ]
  },
  {
   "cell_type": "code",
   "execution_count": 36,
   "metadata": {},
   "outputs": [
    {
     "name": "stdout",
     "output_type": "stream",
     "text": [
      "Masukkan sembarang angka x = 67\n",
      "halo\n"
     ]
    }
   ],
   "source": [
    "# Contoh sederhana\n",
    "\n",
    "z = float(input('Masukkan sembarang angka x = ')) # input by default dikenali sebagai \"string/characters\", hence \"float\"\n",
    "if z>0: \n",
    "    print('halo')\n",
    "elif z==0:\n",
    "    print('x bukan positif dan bukan negatif')\n",
    "elif z==-1:\n",
    "    print('hi')"
   ]
  },
  {
   "cell_type": "markdown",
   "metadata": {},
   "source": [
    "# <font color=\"blue\"> Python Alternate Universe </font>\n",
    "\n",
    "Unfortunately it is not as easy in real life as it is in Python to differentiate between **true and false**: \n",
    "The following objects are evaluated by Python as **False**:\n",
    "\n",
    "- numerical zero values (0, 0.0, 0.0+0.0j),\n",
    "- the Boolean value False,\n",
    "- empty strings,\n",
    "- empty lists and empty tuples,\n",
    "- empty dictionaries.\n",
    "- special value \"None\".\n",
    "\n",
    "**All other values are considered to be True**"
   ]
  },
  {
   "cell_type": "code",
   "execution_count": null,
   "metadata": {},
   "outputs": [],
   "source": [
    "A = 99 # Silahkan dicoba ganti dengan sembarang nilai lain seperti keterangan di cell sebelumnya\n",
    "if A:\n",
    "    print('A dianggap True')\n",
    "else:\n",
    "    print('A dianggap False')"
   ]
  },
  {
   "cell_type": "markdown",
   "metadata": {},
   "source": [
    "## <font color=\"blue\"> Exceptions (Try-Except): One of the reason why Python is awesome!</font>\n",
    "\n",
    "* Secara umum sebuah program sebaiknya harus memiliki \"precaution\", just in case input yang tidak diinginkan masuk ke sistem dan mengakibatkan error.\n",
    "* Istilah formal untuk hal ini adalah \"Domain Constraint\".\n",
    "* Pada dasarnya hampir semua bahasa pemrograman (dan database) mampu melakukan domain constraint. Namun di Python dapat dilakukan dengan jauuuuhhh lebih sederhana (simple)"
   ]
  },
  {
   "cell_type": "code",
   "execution_count": 37,
   "metadata": {},
   "outputs": [
    {
     "name": "stdout",
     "output_type": "stream",
     "text": [
      "Please input any integerjhgyyt\n",
      "you did not insert an integer :( \n"
     ]
    }
   ],
   "source": [
    "# Contoh TRY - Except\n",
    "try:\n",
    "    n = int(input(\"Please input any integer\"))\n",
    "except:\n",
    "    print('you did not insert an integer :( ')\n",
    "# Catt: "
   ]
  },
  {
   "cell_type": "code",
   "execution_count": 38,
   "metadata": {},
   "outputs": [
    {
     "name": "stdout",
     "output_type": "stream",
     "text": [
      "Please input any integerkhgfhfjytdk\n"
     ]
    },
    {
     "ename": "ValueError",
     "evalue": "invalid literal for int() with base 10: 'khgfhfjytdk'",
     "output_type": "error",
     "traceback": [
      "\u001b[1;31m---------------------------------------------------------------------------\u001b[0m",
      "\u001b[1;31mValueError\u001b[0m                                Traceback (most recent call last)",
      "\u001b[1;32m<ipython-input-38-287bd2d54335>\u001b[0m in \u001b[0;36m<module>\u001b[1;34m()\u001b[0m\n\u001b[0;32m      1\u001b[0m \u001b[1;31m# Tanpa try-Except Program akan error dan terhenti\u001b[0m\u001b[1;33m\u001b[0m\u001b[1;33m\u001b[0m\u001b[0m\n\u001b[0;32m      2\u001b[0m \u001b[1;31m# Coba input dengan sembarang \"huruf\" dan jalankan\u001b[0m\u001b[1;33m\u001b[0m\u001b[1;33m\u001b[0m\u001b[0m\n\u001b[1;32m----> 3\u001b[1;33m \u001b[0mn\u001b[0m \u001b[1;33m=\u001b[0m \u001b[0mint\u001b[0m\u001b[1;33m(\u001b[0m\u001b[0minput\u001b[0m\u001b[1;33m(\u001b[0m\u001b[1;34m\"Please input any integer\"\u001b[0m\u001b[1;33m)\u001b[0m\u001b[1;33m)\u001b[0m\u001b[1;33m\u001b[0m\u001b[0m\n\u001b[0m",
      "\u001b[1;31mValueError\u001b[0m: invalid literal for int() with base 10: 'khgfhfjytdk'"
     ]
    }
   ],
   "source": [
    "# Tanpa try-Except Program akan error dan terhenti\n",
    "# Coba input dengan sembarang \"huruf\" dan jalankan\n",
    "n = int(input(\"Please input any integer\"))"
   ]
  },
  {
   "cell_type": "markdown",
   "metadata": {},
   "source": [
    "<center><img alt=\"\" src=\"img/3_Looping_Components.png\" style=\"width: 800px; height: 424px;\" />"
   ]
  },
  {
   "cell_type": "markdown",
   "metadata": {},
   "source": [
    "# di Python sedikit berbeda (menggunakan fungsi \"range\")"
   ]
  },
  {
   "cell_type": "code",
   "execution_count": null,
   "metadata": {},
   "outputs": [],
   "source": [
    "L = list( range(3) )\n",
    "print(L)"
   ]
  },
  {
   "cell_type": "code",
   "execution_count": null,
   "metadata": {},
   "outputs": [],
   "source": [
    "for i in range(3):\n",
    "    print(i)"
   ]
  },
  {
   "cell_type": "markdown",
   "metadata": {},
   "source": [
    "# Range bisa dimulai dan incremented dari sembarang nilai\n",
    "\n",
    "## range(start, end, increment)"
   ]
  },
  {
   "cell_type": "code",
   "execution_count": null,
   "metadata": {},
   "outputs": [],
   "source": [
    "# contoh\n",
    "for i in range(2, 12, 3):\n",
    "    print(i)"
   ]
  },
  {
   "cell_type": "code",
   "execution_count": 39,
   "metadata": {},
   "outputs": [
    {
     "name": "stdout",
     "output_type": "stream",
     "text": [
      "a\n",
      "345\n",
      "90.4\n",
      "True\n"
     ]
    }
   ],
   "source": [
    "# Looping di python sangat fleksible (list iterable di Python)\n",
    "A = ['a', 345, 90.4, True]\n",
    "\n",
    "for elemenA in A:\n",
    "    print(elemenA)"
   ]
  },
  {
   "cell_type": "markdown",
   "metadata": {},
   "source": [
    "# Modul Python\n",
    "\n",
    "* \"import\" (misal math/numpy)\n",
    "* import alias\n",
    "* Deklarasi\n",
    "* Deklarasi multiline (it's a matter of preference)"
   ]
  },
  {
   "cell_type": "code",
   "execution_count": 7,
   "metadata": {},
   "outputs": [
    {
     "name": "stdout",
     "output_type": "stream",
     "text": [
      "2.0\n"
     ]
    }
   ],
   "source": [
    "import numpy\n",
    "\n",
    "print(numpy.log10(100))"
   ]
  },
  {
   "cell_type": "code",
   "execution_count": 8,
   "metadata": {},
   "outputs": [
    {
     "data": {
      "text/plain": [
       "2.0"
      ]
     },
     "execution_count": 8,
     "metadata": {},
     "output_type": "execute_result"
    }
   ],
   "source": [
    "# Bisa menggunakan alias agar lebih singkat\n",
    "import numpy as np\n",
    "\n",
    "np.log10(100)"
   ]
  },
  {
   "cell_type": "code",
   "execution_count": 9,
   "metadata": {
    "scrolled": true
   },
   "outputs": [
    {
     "name": "stdout",
     "output_type": "stream",
     "text": [
      "0.0015926529164868282\n",
      "1.0\n"
     ]
    }
   ],
   "source": [
    "# bisa import parsial\n",
    "from numpy import cos \n",
    "from numpy import sin\n",
    "\n",
    "print(sin(3.14))\n",
    "print(cos(0.00))"
   ]
  },
  {
   "cell_type": "markdown",
   "metadata": {},
   "source": [
    "## <font color=\"blue\">Outline Social Media Analytic:</font>\n",
    "* Pendahuluan SMA\n",
    "* Crawling, Saving, and Loading (API)\n",
    "* Streaming Data dari twitter\n",
    "* Crawling tanpa API dan Data masa lalu (> 7 hari)\n",
    "* Simple (but powerful) Analisis - Voyant Tools\n",
    "* Simple Graph Analysis: Community dan Centrality Analysis\n",
    "* Combining Graph &amp; Text Analysis: Topic Modelling &amp; Community\n",
    "* Gephy untuk visualisasi Graph tingkat Lanjut (optional - Time Permitted)"
   ]
  },
  {
   "cell_type": "markdown",
   "metadata": {},
   "source": [
    "<h3 id=\"SMA-adalah-sebuah-proses-pengumpulan-data-dari-media-sosial-dan-analisanya-untuk-mendapatkan-'insights'-atau-informasi-berharga-untuk-suatu-tujuan-tertentu-(definisi-adopted-dari-Gartner*)\">SMA adalah sebuah proses pengumpulan data dari media sosial dan analisanya untuk mendapatkan &#39;insights&#39; atau informasi berharga untuk suatu tujuan tertentu (definisi diadopsi dari Gartner*).</h3>\n",
    "\n",
    "<p><img alt=\"\" src=\"img/sma.jpg\" style=\"width: 600px; height: 304px;\" /></p>\n"
   ]
  },
  {
   "cell_type": "markdown",
   "metadata": {},
   "source": [
    "<p><img alt=\"\" src=\"img/8_SMA_Cycle.JPG\" style=\"height:300px; width:705px\" /></p>\n"
   ]
  },
  {
   "cell_type": "markdown",
   "metadata": {},
   "source": [
    "<p><img alt=\"\" src=\"img/8_SMA_Techniques.JPG\" style=\"height:400px; width:574px\" /></p>"
   ]
  },
  {
   "cell_type": "markdown",
   "metadata": {},
   "source": [
    "<h3 id=\"Social-Media-Analytics-Challenges\"><u>Tantangan Social Media Analytics</u></h3>\n",
    "\n",
    "<ul>\n",
    "\t<li>\n",
    "\t<p>Pendek (<strong>Short </strong>in lengths): bahkan terkadang tidak mengandung sebuah kalimat yang utuh menurut tata bahasa (grammar).</p>\n",
    "\t</li>\n",
    "\t<li><strong>Noise&nbsp;</strong>: Data media sosial penuh dengan noise seperti typos (salah ketik), encoding yang tidak jamak, slang, dsb.</li>\n",
    "\t<li><strong>Temporal&nbsp;</strong>: Informasi yang sedang trending biasanya hanya sesaat,<br />\n",
    "\tsehingga SMA diharapkan dilakukan dengan cepat menggunakan model-model/teknik-teknik analisa data yang efisien.</li>\n",
    "\t<li><strong>High-dimensional</strong> : Data di Media Sosial (Teks, Gambar, Video, Suara, dsb) adalah data tidak terstruktur berdimensi tinggi.</li>\n",
    "\t<li><strong>Fine-grained</strong> : Data di media sosial berasal dari banyak user yang masing-masingnya bisa jadi membahas beberapa topik yang berbeda.<br />\n",
    "\tSehingga komunitas (kelompok), topik, maupun klasifikasi yang ada menjadi besar (fine-grained).</li>\n",
    "\t<li><strong>Large in volume</strong>&nbsp;&amp; <strong>High velocity</strong>:&nbsp; Data yang sangat besar dan bertambah besar dengan cepat.</li>\n",
    "\t<li><strong>A lot of external Information</strong> : Informasi terkadang lebih banyak terkandung dari luar (eksternal) seperti url website, video, atau hal lain yang dibagikan oleh pengguna media sosial.</li>\n",
    "</ul>\n"
   ]
  },
  {
   "cell_type": "markdown",
   "metadata": {},
   "source": [
    "<h2>Centrality&nbsp;Analysis</h2>\n",
    "\n",
    "<p>Bertujuan untuk menemukan pengguna yang paling berpengaruh dalam suatu topik pembicaraan di media sosial. Analisanya biasanya dilakukan melalui data graph dari hubungan jaringan pertemanan (follower/friend) antar pengguna atau komunikasi antar pengguna (mentions).</p>\n",
    "\n",
    "<p><img alt=\"\" src=\"img/8_SMA_Centrality.JPG\" style=\"height: 400px ; width: 600px\" /></p>\n"
   ]
  },
  {
   "cell_type": "markdown",
   "metadata": {},
   "source": [
    "<h2>Community Detection</h2>\n",
    "\n",
    "<p>CD dilakukan pada data jaringan media sosial untuk menemukan komunitas-komunitas dalam pertemanan atau pembicaraan di media sosial. Secara sederhana CD dapat dimengerti sebagai proses clustering (pengelompokan) , namun atas suatu graph.</p>\n",
    "\n",
    "<h2><img alt=\"\" src=\"img/8_SMA_Community.JPG\" style=\"height: 400px ; width: 600px\" /></h2>\n"
   ]
  },
  {
   "cell_type": "markdown",
   "metadata": {},
   "source": [
    "<h2 id=\"Case-Study:-twitter\">Case Study: twitter</h2>\n",
    "<ol>\n",
    "\t<li>API Keys</li>\n",
    "\t<li>Rules</li>\n",
    "\t<li>Crawling by searching</li>\n",
    "    <li>tweet Json</li>\n",
    "\t<li>Crawling by Streaming and Scrapping</li>\n",
    "    <li>twitter Social Media Analytics</li>\n",
    "</ol>\n",
    "<img alt=\"\" src=\"img/6_twitter.png\" style=\"width: 300px; height: 300px;\" />\n",
    "\n",
    "Read More:\n",
    "\n",
    "* https://tau-data.id/crawling-twitter/"
   ]
  },
  {
   "cell_type": "markdown",
   "metadata": {},
   "source": [
    "<h2>(your own) twitter API Keys</h2>\n",
    "\n",
    "<h2><img alt=\"\" src=\"img/6_Creating_API_Keys.png\" style=\"width: 854px ; height: 444px\" /></h2>\n"
   ]
  },
  {
   "cell_type": "markdown",
   "metadata": {},
   "source": [
    "<h2 id=\"Aturan-twitter\">Aturan, bentuk data, &amp; error codes twitter</h2>\n",
    "\n",
    "<ol>\n",
    "\t<li>\n",
    "\t<p><a href=\"https://dev.twitter.com/rest/public/rate-limiting\" target=\"_blank\">https://</a><a href=\"https://dev.twitter.com/rest/public/rate-limiting\" target=\"_blank\">dev.twitter.com/rest/public/rate-limiting</a></p>\n",
    "\t</li>\n",
    "\t<li>\n",
    "\t<p><a href=\"https://dev.twitter.com/overview/terms/agreement-and-policy\" target=\"_blank\">https://dev.twitter.com/overview/terms/agreement-and-policy</a></p>\n",
    "\t</li>\n",
    "\t<li>\n",
    "\t<p><a href=\"https://dev.twitter.com/overview/api/response-codes\" target=\"_blank\">https://</a><a href=\"https://dev.twitter.com/overview/api/response-codes\" target=\"_blank\">dev.twitter.com/overview/api/response-codes</a></p>\n",
    "\t</li>\n",
    "\t<li>\n",
    "\t<p><a href=\"https://dev.twitter.com/overview/api/tweets\" target=\"_blank\">https://</a><a href=\"https://dev.twitter.com/overview/api/tweets\" target=\"_blank\">dev.twitter.com/overview/api/tweets</a></p>\n",
    "\t</li>\n",
    "</ol>\n"
   ]
  },
  {
   "cell_type": "code",
   "execution_count": null,
   "metadata": {},
   "outputs": [],
   "source": [
    "# Install Modules\n",
    "# HANYA jalankan cell ini jika menggunakan \"Google Colab\"\n",
    "import subprocess, sys\n",
    "from tqdm import tqdm\n",
    "print(sys.version)\n",
    "\n",
    "modules = ['pydot','autocomplete','nltk','Sastrawi','scikit-learn','python-louvain', 'warnings', 'geopy'\n",
    "                    'pyldavis','pyLDAvis','textblob','networkx','spacy','wordcloud','gensim','twython',\n",
    "                    'tweepy','unidecode', 'scipy','python-crfsuite','umap-learn']\n",
    "\n",
    "print('Installing Modules (if necessary):')\n",
    "for modul in tqdm(modules):\n",
    "    try:\n",
    "        subprocess.call(['pip', 'install', modul])\n",
    "    except:\n",
    "        print('unable to install ', modul)\n",
    "        \n",
    "!python -m spacy download en\n",
    "!python -m spacy download xx\n",
    "!python -m spacy download en_core_web_sm\n",
    "\n",
    "import nltk\n",
    "nltk.download('popular')"
   ]
  },
  {
   "cell_type": "code",
   "execution_count": 14,
   "metadata": {},
   "outputs": [],
   "source": [
    "# import Modules, harap bersabar mungkin akan memakan waktu yang cukup signifikan (lama)\n",
    "import warnings; warnings.simplefilter('ignore')\n",
    "import pandas as pd, seaborn as sns; sns.set()\n",
    "import tweepy, csv, json, warnings; warnings.simplefilter('ignore')\n",
    "from geopy.geocoders import Yandex; geolocator = Yandex(lang='en_US')\n",
    "from twython import TwythonStreamer \n",
    "from tqdm import tqdm\n",
    "import networkx as nx, operator, numpy as np\n",
    "import pyLDAvis, pyLDAvis.sklearn; pyLDAvis.enable_notebook()"
   ]
  },
  {
   "cell_type": "code",
   "execution_count": null,
   "metadata": {},
   "outputs": [],
   "source": [
    "try:\n",
    "    import taudata as tau\n",
    "except:\n",
    "    !wget https://raw.githubusercontent.com/taufikedys/tau-data/master/data/taudata.py\n",
    "    import taudata as tau"
   ]
  },
  {
   "cell_type": "code",
   "execution_count": null,
   "metadata": {},
   "outputs": [],
   "source": [
    "nomer = 1 # Sesuaikan dengan nomer yg diberikan di ruang Workshop\n",
    "twitter, Ck, Cs, At, As = tau.twitter_connect2(id_ = nomer)"
   ]
  },
  {
   "cell_type": "code",
   "execution_count": null,
   "metadata": {},
   "outputs": [],
   "source": [
    "topic = 'padang'\n",
    "n = 200 # jumlah tweet maksimal yang ingin diambil\n",
    "# Kalau menggunakan API saya diatas, mohon n diisi tidak lebih dari 200\n",
    "# \"Agar peserta lain juga bisa mencoba\" ==> Due to rate limiting\n",
    "# Jika API keys memakai API Bapak/Ibu sendiri, silahkan n diganti dengan\n",
    "# nilai yang jauh lebih besar (misal n = 10000).\n",
    "Tweets = tau.getTweets(twitter, topic, N = n) # lan = 'id' atau 'en' ..."
   ]
  },
  {
   "cell_type": "code",
   "execution_count": null,
   "metadata": {},
   "outputs": [],
   "source": [
    "# Bentuk tweet = Json. Contoh tweet pertama:\n",
    "Tweets[0]"
   ]
  },
  {
   "cell_type": "code",
   "execution_count": null,
   "metadata": {},
   "outputs": [],
   "source": [
    "# Contoh mengakses data spesifik pada tweet yang pertama:\n",
    "print('tweet pertama oleh \"{}\" : \"{}\"'.format(Tweets[0]['user']['screen_name'],Tweets[0]['full_text']))"
   ]
  },
  {
   "cell_type": "code",
   "execution_count": null,
   "metadata": {},
   "outputs": [],
   "source": [
    "D = [tweet['full_text'] for tweet in Tweets]\n",
    "D[:3]"
   ]
  },
  {
   "cell_type": "code",
   "execution_count": null,
   "metadata": {},
   "outputs": [],
   "source": [
    "# Menyimpan hasil crawling twitter\n",
    "fileName = 'Tweets.json'\n",
    "tau.saveTweets(Tweets,file=fileName)\n",
    "print('Saved to '+fileName)"
   ]
  },
  {
   "cell_type": "code",
   "execution_count": null,
   "metadata": {},
   "outputs": [],
   "source": [
    "# Me-load kembali jika (misal) analisa ingin dilakukan di lain waktu\n",
    "# Sengaja nama variabelnya saya bedakan (T2)\n",
    "T2 = tau.loadTweets(file='Tweets.json')\n",
    "print('tweet pertama oleh \"{}\" : \"{}\"'.format(T2[0]['user']['screen_name'],T2[0]['full_text']))"
   ]
  },
  {
   "cell_type": "code",
   "execution_count": null,
   "metadata": {},
   "outputs": [],
   "source": [
    "# Contoh mengambil hanya data tweet\n",
    "D = [t['full_text'] for t in Tweets]\n",
    "D[:5] # 5 tweet pertama"
   ]
  },
  {
   "cell_type": "code",
   "execution_count": null,
   "metadata": {},
   "outputs": [],
   "source": [
    "# Menyimpan dalam bentuk csv\n",
    "df = pd.DataFrame(D, columns=[\"tweet\"])\n",
    "df.to_csv('data_Tweet.csv', index=False)"
   ]
  },
  {
   "cell_type": "markdown",
   "metadata": {},
   "source": [
    "<h2 id=\"Pemilihan-KeyWords\">Pemilihan KeyWords yang baik</h2>\n",
    "\n",
    "<ul>\n",
    "\t<li><a href=\"https://medium.com/lingvo-masino/how-to-choose-keywords-in-twitter-9c3b85c50290\" target=\"_blank\">https://medium.com/lingvo-masino/how-to-choose-keywords-in-twitter-9c3b85c50290</a></li>\n",
    "</ul>\n"
   ]
  },
  {
   "cell_type": "markdown",
   "metadata": {},
   "source": [
    "# Query Operator (penting)\n",
    "\n",
    "<ul>\n",
    "\t<li><img alt=\"\" src=\"img/query_Operator.png\" style=\"width: 661px; height: 554px;\" /></li>\n",
    "    <li>Detail: <a href=\"https://developer.twitter.com/en/docs/tweets/search/guides/standard-operators.html\" target=\"_blank\">https://developer.twitter.com/en/docs/tweets/search/guides/standard-operators.html</a></li>\n",
    "</ul>\n"
   ]
  },
  {
   "cell_type": "code",
   "execution_count": null,
   "metadata": {},
   "outputs": [],
   "source": [
    "D = {}\n",
    "D['par1'] = ['t','f']\n",
    "D['par2'] = ['b','a']\n"
   ]
  },
  {
   "cell_type": "code",
   "execution_count": null,
   "metadata": {},
   "outputs": [],
   "source": [
    "D['par1']"
   ]
  },
  {
   "cell_type": "code",
   "execution_count": null,
   "metadata": {},
   "outputs": [],
   "source": [
    "float('Inf')"
   ]
  },
  {
   "cell_type": "code",
   "execution_count": null,
   "metadata": {},
   "outputs": [],
   "source": [
    "# Mari kita coba #1\n",
    "topic = 'from:ridwankamil'\n",
    "n = 5 # Contoh jumlah tweet yang ingin diambil\n",
    "T = tau.getTweets(twitter, topic, N = n) # lan = 'id' atau 'en' ...\n",
    "[t['full_text'] for t in T]"
   ]
  },
  {
   "cell_type": "markdown",
   "metadata": {},
   "source": [
    "#  Mendapatkan tweet hanya dari daerah tertentu"
   ]
  },
  {
   "cell_type": "code",
   "execution_count": null,
   "metadata": {},
   "outputs": [],
   "source": [
    "location = geolocator.geocode(\"padang\", timeout=10)\n",
    "\n",
    "if location != None:\n",
    "    print(location.address)\n",
    "    print(location.latitude, \" -> \", location.longitude)\n",
    "else:\n",
    "    print('Not Found')"
   ]
  },
  {
   "cell_type": "code",
   "execution_count": null,
   "metadata": {},
   "outputs": [],
   "source": [
    "# Mari kita coba #3 gunakan google (map) untuk koordinat suatu lokasi\n",
    "# http://thoughtfaucet.com/search-twitter-by-location/\n",
    "# misal search tweet tentang \"makanan\" di Depok dan sekitarnya\n",
    "\n",
    "auth = tweepy.auth.OAuthHandler(Ck, Cs)\n",
    "auth.set_access_token(At, As)\n",
    "api = tweepy.API(auth)\n",
    "\n",
    "#csvFile = open('data/tweets.csv', 'a') # Open/Create a file to append data\n",
    "#csvWriter = csv.writer(csvFile)#Use csv Writer\n",
    "Geo, N = \"-0.936803,100.363934,30km\", 30\n",
    "qry = 'mobil'\n",
    "for tweet in tweepy.Cursor(api.search,q=qry,count=100,geocode=Geo).items(N):\n",
    "    print([tweet.created_at, tweet.text.encode('utf-8'), tweet.user.id, tweet.geo])\n",
    "    #csvWriter.writerow([tweet.created_at, tweet.text.encode('utf-8'), tweet.user.id])"
   ]
  },
  {
   "cell_type": "markdown",
   "metadata": {},
   "source": [
    "<h1 id=\"Streaming-Data\">Streaming and Scrapping Data</h1>\n",
    "\n",
    "<p><img alt=\"\" src=\"img/Meme_Streaming_Data.jpg\" style=\"width: 307px; height: 309px;\" /></p>\n"
   ]
  },
  {
   "cell_type": "code",
   "execution_count": null,
   "metadata": {},
   "outputs": [],
   "source": [
    "def streamTwitter(topicS, lang, fileHasil, maxTweet, Ck, Cs, At, As):\n",
    "    f = open(fileHasil, 'w')\n",
    "    class MyStreamer(TwythonStreamer):\n",
    "        def on_success(self, data):\n",
    "            global count\n",
    "            f.write(json.dumps(data)+'\\n')\n",
    "            count+=1;print(\"\\rNbr of Tweets captured: {}\".format(count), end=\"\")\n",
    "            if count==maxTweet:\n",
    "                print('\\nFinished Recording %.0f tweets' %(maxTweet)); self.disconnect()\n",
    "        def on_error(self, status_code, data):\n",
    "            print('Error Status = %s' %status_code); self.disconnect()\n",
    "\n",
    "    print('Start Streaming Data, Please Wait ... ')\n",
    "    while count<maxTweet:\n",
    "        stream = MyStreamer(Ck, Cs, At, As)\n",
    "        stream.statuses.filter(track=topicS)\n",
    "    f.close()\n",
    "    print('Finished, file saved to: ', fileHasil)"
   ]
  },
  {
   "cell_type": "code",
   "execution_count": null,
   "metadata": {},
   "outputs": [],
   "source": [
    "# Streaming tweets. Untuk percobaan pilih topicS sesuatu yg sedang trending/populer \"saat ini\".\n",
    "# Atau bisa coba dengan mengirim tweet sendiri :)\n",
    "\n",
    "maxTweet, count = 3, 0 # Rubah sesuai dengan kebutuhan, Untuk percobaan ini cukup (misal) 3 tweet\n",
    "lang = set(['en','id']) # bahasa bisa dipilih > 1\n",
    "topicS = ['rendangbebek'] # Bisa>1\n",
    "f = '-'.join(topicS)+'Streaming_Tweets.json'\n",
    "\n",
    "streamTwitter(topicS, lang, f, maxTweet, Ck, Cs, At, As)"
   ]
  },
  {
   "cell_type": "code",
   "execution_count": null,
   "metadata": {},
   "outputs": [],
   "source": [
    "# import hasil stream\n",
    "data_stream = tau.loadTweets(file=f)\n",
    "data_stream[0]"
   ]
  },
  {
   "cell_type": "markdown",
   "metadata": {},
   "source": [
    "# Sebelum dilanjutkan\n",
    "\n",
    "* Silahkan \"unduh/download\" file data_scrap.csv diatas melalui web google drive. \n",
    "* simpan ke desktop (agar nanti mudah dicari)"
   ]
  },
  {
   "cell_type": "markdown",
   "metadata": {},
   "source": [
    "<h2 id=\"Loading-Data\">Cara Lain (Google SpreadSheet add-on)</h2>\n",
    "\n",
    "<ol>\n",
    "\t<li>Login ke account Google (e.g. gmail atau youtube): <a href=\"https://mail.google.com\" target=\"_blank\">https://mail.google.com</a></li>\n",
    "\t<li>Login ke Account twitter (create jika belum memliki) :&nbsp;<a href=\"https://twitter.com/\" target=\"_blank\">https://twitter.com/</a>&nbsp;</li>\n",
    "\t<li>Klik link berikut:&nbsp;<a href=\"https://chrome.google.com/webstore/detail/twitter-archiver/pkanpfekacaojdncfgbjadedbggbbphi\" target=\"_blank\">https://chrome.google.com/webstore/detail/twitter-archiver/pkanpfekacaojdncfgbjadedbggbbphi</a></li>\n",
    "\t<li>Install Add-On tersebut (No 3.)</li>\n",
    "\t<li>Buka Google Spreadsheet:&nbsp;<a href=\"https://docs.google.com/spreadsheets\" target=\"_blank\">https://docs.google.com/spreadsheets</a></li>\n",
    "\t<li>Klik Add-On ==&gt; Twitter Archiever ==&gt; Create New Rule</li>\n",
    "\t<li>Isi sesuai minat.</li>\n",
    "\t<li>Save/Download Google Spreadsheet-nya sebagai CSV.</li>\n",
    "</ol>\n"
   ]
  },
  {
   "cell_type": "markdown",
   "metadata": {},
   "source": [
    "<h1 id=\"Graph-From-Social-media\">Graph From Social media</h1>\n",
    "\n",
    "<h3 id=\"Mentions,-Followers,-Friends\">Mentions, Followers, Friends</h3>\n",
    "\n",
    "<p><img alt=\"\" src=\"img/SNA_Graph_Types.png\" style=\"width: 700px; height: 443px;\" /></p>"
   ]
  },
  {
   "cell_type": "code",
   "execution_count": null,
   "metadata": {},
   "outputs": [],
   "source": [
    "# Draw the Tweet Graph\n",
    "G = tau.Graph(Tweets,Label = False, layOut='spring') # layOut = spring, circular, random, shells, spectral"
   ]
  },
  {
   "cell_type": "markdown",
   "metadata": {},
   "source": [
    "<h2>I. Centrality&nbsp;Analysis</h2>\n",
    "\n",
    "<p>Bertujuan untuk menemukan pengguna yang paling berpengaruh dalam suatu topik pembicaraan di media sosial. Analisanya biasanya dilakukan melalui data graph dari hubungan jaringan pertemanan (follower/friend) antar pengguna atau komunikasi antar pengguna (mentions).</p>\n",
    "\n",
    "<p><img alt=\"\" src=\"img/8_SMA_Centrality.JPG\" style=\"height: 400px ; width: 600px\" /></p>\n"
   ]
  },
  {
   "cell_type": "markdown",
   "metadata": {},
   "source": [
    "<h1 id=\"Centrality-by-Degree\">Centrality by Degree</h1>\n",
    "\n",
    "<p><img alt=\"\" src=\"img/Degree_Centrality.png\" style=\"width: 800px; height: 505px;\" /></p>\n",
    "\n",
    "## Apakah interpretasinya?"
   ]
  },
  {
   "cell_type": "code",
   "execution_count": null,
   "metadata": {},
   "outputs": [],
   "source": [
    "# Let's now examine, who are the most \"important\" users in this Graph?\n",
    "Gt = tau.Centrality(G, N=10, method='degree', outliers=False, Label = True, layOut='spring')"
   ]
  },
  {
   "cell_type": "code",
   "execution_count": null,
   "metadata": {},
   "outputs": [],
   "source": [
    "tau.drawGraph(Gt, True, layOut='circular')"
   ]
  },
  {
   "cell_type": "markdown",
   "metadata": {},
   "source": [
    "<h1 id=\"Closeness-Centrality\">Closeness Centrality</h1>\n",
    "\n",
    "<p><img alt=\"\" src=\"img/closeness_centrality.png\" style=\"width: 700px; height: 320px;\" /></p>\n"
   ]
  },
  {
   "cell_type": "code",
   "execution_count": null,
   "metadata": {},
   "outputs": [],
   "source": [
    "Gt = tau.Centrality(G, N=10, method='closeness', outliers=False, Label = True, layOut='spring')"
   ]
  },
  {
   "cell_type": "code",
   "execution_count": null,
   "metadata": {},
   "outputs": [],
   "source": [
    "tau.drawGraph(Gt, True, layOut='circular')"
   ]
  },
  {
   "cell_type": "markdown",
   "metadata": {},
   "source": [
    "<h1 id=\"Betweenness-Centrality\">Betweenness Centrality</h1>\n",
    "\n",
    "<p><img alt=\"\" src=\"img/betweeness_Centrality.png\" style=\"width: 700px; height: 368px;\" /></p>\n"
   ]
  },
  {
   "cell_type": "code",
   "execution_count": null,
   "metadata": {},
   "outputs": [],
   "source": [
    "Gt = tau.Centrality(G, N=10, method='betweeness', outliers=False, Label = True, layOut='spring')"
   ]
  },
  {
   "cell_type": "code",
   "execution_count": null,
   "metadata": {},
   "outputs": [],
   "source": [
    "tau.drawGraph(Gt, True, layOut='circular')"
   ]
  },
  {
   "cell_type": "markdown",
   "metadata": {},
   "source": [
    "# Eigenvector Centrality\n",
    "\n",
    "<p><img alt=\"\" src=\"img/Eigenvector_Centrality_1.png\" style=\"width: 685px; height: 430px;\" /></p>\n",
    "\n",
    "### Digunakan juga oleh Google dalam Algoritma PageRank-nya untuk menentukan halaman web terpenting."
   ]
  },
  {
   "cell_type": "code",
   "execution_count": null,
   "metadata": {},
   "outputs": [],
   "source": [
    "Gt = tau.Centrality(G, N=10, method='eigen', outliers=False, Label = True, layOut='spring')"
   ]
  },
  {
   "cell_type": "code",
   "execution_count": null,
   "metadata": {},
   "outputs": [],
   "source": [
    "tau.drawGraph(Gt, True, layOut='circular')"
   ]
  },
  {
   "cell_type": "markdown",
   "metadata": {},
   "source": [
    "<h1 id=\"Summary\">Summary</h1>\n",
    "\n",
    "<p><img alt=\"\" src=\"img/Centrality_Interpretations.png\" style=\"width: 659px; height: 349px;\" /></p>"
   ]
  },
  {
   "cell_type": "markdown",
   "metadata": {},
   "source": [
    "<p><img alt=\"\" src=\"img/9_Sentiment_Analysis_Meme.jpg\" style=\"height:300px; width:400px\" /></p>\n"
   ]
  },
  {
   "cell_type": "markdown",
   "metadata": {},
   "source": [
    "<p><strong>Apakah sentiment analysis?</strong></p>\n",
    "\n",
    "<p>Sentiment Analysis adalah suatu proses komputasi untuk menentukan apakah suatu penrnyataan bermakna positive, negative, atau netral.</p>\n",
    "\n",
    "<p>Terkadang disebut juga sebagai&nbsp;<strong>opinion mining.</strong></p>\n",
    "\n",
    "<p><strong>Contoh aplikasi Sentiment Analysis</strong></p>\n",
    "\n",
    "<ul>\n",
    "\t<li><strong>Business: tanggapan konsumen atas suatu produk</strong>.</li>\n",
    "\t<li><strong>Politics:&nbsp;</strong>Sentimen masyarakat sebagai strategi pemenangan pemilu/pilkada.</li>\n",
    "</ul>\n"
   ]
  },
  {
   "cell_type": "markdown",
   "metadata": {},
   "source": [
    "<p><img alt=\"\" src=\"img/9_SA_techniques.jpg\" /></p>\n"
   ]
  },
  {
   "cell_type": "code",
   "execution_count": null,
   "metadata": {},
   "outputs": [],
   "source": [
    "from textblob import TextBlob\n",
    "# Lexicon Based berdasarkan \n",
    "# pattern = https://www.clips.uantwerpen.be/pages/pattern-en#sentiment\n",
    "Sentence = \"I hate Bakpia\"\n",
    "testimonial = TextBlob(Sentence)\n",
    "print(testimonial.sentiment)\n",
    "print('Polarity=Sentimen =', testimonial.sentiment.polarity)"
   ]
  },
  {
   "cell_type": "code",
   "execution_count": null,
   "metadata": {},
   "outputs": [],
   "source": [
    "SA = tau.sentiment(Tweets[:30])"
   ]
  },
  {
   "cell_type": "code",
   "execution_count": null,
   "metadata": {},
   "outputs": [],
   "source": [
    "# intip yuks yang positif contohnya seperti apa.\n",
    "tau.printSA(SA, N=2, emo = 'positif') # positif, negatif, netral subjectif, subjektif, objektif"
   ]
  },
  {
   "cell_type": "markdown",
   "metadata": {},
   "source": [
    "<h3>Ketika mengolah dokumen (file dalam bentuk teks), harapan kita seperti ini:</h3>\n",
    "\n",
    "<img alt=\"\" src=\"img/4_harapan_LSA.png\" style=\"height:99px; width:198px\" />\n"
   ]
  },
  {
   "cell_type": "markdown",
   "metadata": {},
   "source": [
    "<h3>Namun kita sudah bahas kemarin kenyataannya seperti ini:</h3>\n",
    "\n",
    "<p><img alt=\"\" src=\"img/4_kenyataan_LSA.png\" style=\"height:183px; width:182px\" /></p>"
   ]
  },
  {
   "cell_type": "markdown",
   "metadata": {},
   "source": [
    "# Topic Modelling\n",
    "\n",
    "<p><img alt=\"\" src=\"img/topic_modelling.png\" /></p>\n",
    "\n",
    "<p><strong><big>Tapi bukan seperti klasifikasi dan bukan berarti kata-kata Sport, Technology, dan Entertainment dominan di kategori-kategori tersebut. Topic modelling lebih ke soft-clustering, dimana suatu dokumen dimasukkan ke dalam beberapa cluster (topic) sekaligus. Adapun nama &quot;topic/cluster&quot;-nya di interpretasi dari kata-kata yang ada didalamnya.</big></strong></p>\n"
   ]
  },
  {
   "cell_type": "code",
   "execution_count": null,
   "metadata": {},
   "outputs": [],
   "source": [
    "# Mari kita dalami lebih jauh Topic Pembicaraan ini\n",
    "tf, tm, vec = tau.getTopics(D, n_topics=3, Top_Words=7)"
   ]
  },
  {
   "cell_type": "code",
   "execution_count": null,
   "metadata": {
    "scrolled": true
   },
   "outputs": [],
   "source": [
    "pyLDAvis.sklearn.prepare(tf, tm, vec) "
   ]
  },
  {
   "cell_type": "markdown",
   "metadata": {},
   "source": [
    "<h2>II. Community Detection (CD)</h2>\n",
    "\n",
    "<p>CD dilakukan pada data jaringan media sosial untuk menemukan komunitas-komunitas dalam pertemanan atau pembicaraan di media sosial. Secara sederhana CD dapat dimengerti sebagai proses \"semacam clustering\" (pengelompokan) , namun atas suatu graph.</p>\n",
    "\n",
    "<img alt=\"\" src=\"img/8_SMA_Community.JPG\" style=\"height: 400px ; width: 600px\" />\n"
   ]
  },
  {
   "cell_type": "code",
   "execution_count": null,
   "metadata": {},
   "outputs": [],
   "source": [
    "# Clustering pada Graph = Community Detection\n",
    "Gt = tau.Community(G)"
   ]
  },
  {
   "cell_type": "markdown",
   "metadata": {},
   "source": [
    "## Penjelasan & Code yang lebih lengkap tentang Centrality & Community Analysis\n",
    "\n",
    "https://tau-data.id/community-detection-centrality/"
   ]
  },
  {
   "cell_type": "markdown",
   "metadata": {},
   "source": [
    "# Sebelum dilanjutkan\n",
    "\n",
    "* Unduh \"data_Tweet.csv\" dari Google Colaboratory (jika belum)"
   ]
  },
  {
   "cell_type": "markdown",
   "metadata": {},
   "source": [
    "<h2>Visualisasi</h2>\n",
    "\n",
    "<ul>\n",
    "\t<li>Tidak seperti data terstruktur, data tidak terstruktur seperti teks termasuk salah satu data yang cukup sulit untuk divisualisasikan.<br />\n",
    "\t<img alt=\"\" src=\"img/11_charts.jpg\" style=\"height:150px; width:276px\" /></li>\n",
    "\t<li>Namun terdapat Tools seperti Voyant yang dapat membantu dalam visualisasi sekaligus analisis.<br />\n",
    "\t<img alt=\"\" src=\"img/11_voyant.png\" style=\"height:118px; width:426px\" /></li>\n",
    "</ul>\n"
   ]
  },
  {
   "cell_type": "markdown",
   "metadata": {},
   "source": [
    "<h3 id=\"Voyant-dapat-digunakan-dalam-2-cara:\">Voyant dapat digunakan dalam 2 cara:</h3>\n",
    "\n",
    "<ol>\n",
    "\t<li>\n",
    "\t<p><strong>Online</strong>:&nbsp;<a href=\"https://voyant-tools.org/\" target=\"_blank\">https://voyant-tools.org/</a><br />\n",
    "\t<u>Kelebihan</u>: Sederhana &amp; portable, tanpa harus install di komputer kita.<br />\n",
    "\t<u>Kekurangan</u>: butuh koneksi internet, tidak cocok untuk data teks yang besar, privacy.</p>\n",
    "\t</li>\n",
    "\t<li>\n",
    "\t<p><strong>Offline </strong>di komputer kita [Java Based]</p>\n",
    "\t</li>\n",
    "</ol>\n"
   ]
  },
  {
   "cell_type": "markdown",
   "metadata": {},
   "source": [
    "<p>[2]. Jalankan Voyant secara offline atau online di URL&nbsp;<a href=\"https://voyant-tools.org/\" target=\"_blank\">https://voyant-tools.org/</a></p>\n",
    "\n",
    "<p>[3]. Upload file yang baru saja kita simpan (data_Tweet.csv).</p>\n"
   ]
  },
  {
   "cell_type": "markdown",
   "metadata": {},
   "source": [
    "<h3 id=\"Penggunaan-Voyant-1:-WordClouds\">Penggunaan Voyant 1: WordClouds</h3>\n",
    "\n",
    "<ol>\n",
    "\t<li>Upload teks yang akan di analisa: hasil cluster/ suatu kategori/ topics / raw text.</li>\n",
    "\t<li>slider terms: mengkontrol banyaknya terms yang disertakan.</li>\n",
    "\t<li><strong>Summary </strong>(statistics)</li>\n",
    "\t<li><strong>Documents </strong>==&gt; add more</li>\n",
    "\t<li><strong>Phrases </strong>(n-grams like)</li>\n",
    "\t<li><strong>Export </strong>Visualisasi (kanan atas - pertama)</li>\n",
    "\t<li><strong>Options </strong>(kanan atas ke-3): Font, size, stopwords, whitelist</li>\n",
    "\t<li>&quot;?&quot; ==&gt; More Help</li>\n",
    "</ol>\n",
    "\n",
    "<p>&nbsp;</p>\n"
   ]
  },
  {
   "cell_type": "markdown",
   "metadata": {},
   "source": [
    "<h3 id=\"Penggunaan-Voyant-2:-Bubbles\">Penggunaan Voyant 2: Bubbles</h3>\n",
    "\n",
    "<ol>\n",
    "\t<li>Upload teks yang akan di analisa: hasil cluster/ suatu kategori/ topics / raw text.<br />\n",
    "\tAtau file yang sudah terupload sebelumnya</li>\n",
    "\t<li>&nbsp;Klik tanda 4-kotak kecil (kanan atas ke-3)</li>\n",
    "\t<li>Pilih Visualization Tools ==&gt; Bubbles</li>\n",
    "\t<li>Option: hanya stopwords</li>\n",
    "\t<li>Export: Hanya PNG</li>\n",
    "</ol>\n",
    "\n",
    "<p>&nbsp;</p>\n"
   ]
  },
  {
   "cell_type": "markdown",
   "metadata": {},
   "source": [
    "<h3 id=\"Penggunaan-Voyant-3:-Word-Tree\">Penggunaan Voyant 3: Word Tree</h3>\n",
    "\n",
    "<ol>\n",
    "\t<li>Upload teks yang akan di analisa: hasil cluster/ suatu kategori/ topics / raw text.<br />\n",
    "\tAtau file yang sudah terupload sebelumnya</li>\n",
    "\t<li>Klik branch untuk expand</li>\n",
    "</ol>\n"
   ]
  },
  {
   "cell_type": "markdown",
   "metadata": {},
   "source": [
    "<h3 id=\"Penggunaan-Voyant-2:-Bubbles\">Penggunaan Voyant 4: Links</h3>\n",
    "\n",
    "<ol>\n",
    "\t<li>Upload teks yang akan di analisa: hasil cluster/ suatu kategori/ topics / raw text.<br />\n",
    "\tAtau file yang sudah terupload sebelumnya</li>\n",
    "\t<li>Visualization Tools ==&gt; Links</li>\n",
    "\t<li>Klik sembarang terms untuk expand</li>\n",
    "</ol>\n"
   ]
  },
  {
   "cell_type": "markdown",
   "metadata": {},
   "source": [
    "<h3 id=\"Penggunaan-Voyant-5:-Trends\">Penggunaan Voyant 5: Trends</h3>\n",
    "\n",
    "<ol>\n",
    "\t<li>Upload teks yang akan di analisa: hasil cluster/ suatu kategori/ topics / raw text.<br />\n",
    "\tAtau file yang sudah terupload sebelumnya</li>\n",
    "\t<li>Document Tools ==&gt; Trends</li>\n",
    "\t<li>.. Butuh preprocessing ...&nbsp;</li>\n",
    "\t<li>Data harus terurut waktu</li>\n",
    "\t<li>Berikut contohnya</li>\n",
    "</ol>\n"
   ]
  },
  {
   "cell_type": "markdown",
   "metadata": {
    "slideshow": {
     "slide_type": "slide"
    }
   },
   "source": [
    "# <center><font color=\"blue\"> End of Workshop.\n",
    "\n",
    "<hr />\n",
    "<img alt=\"\" src=\"img/1_BigData_MeMe.png\"/>"
   ]
  }
 ],
 "metadata": {
  "celltoolbar": "Slideshow",
  "kernelspec": {
   "display_name": "Python 3",
   "language": "python",
   "name": "python3"
  },
  "language_info": {
   "codemirror_mode": {
    "name": "ipython",
    "version": 3
   },
   "file_extension": ".py",
   "mimetype": "text/x-python",
   "name": "python",
   "nbconvert_exporter": "python",
   "pygments_lexer": "ipython3",
   "version": "3.6.8"
  }
 },
 "nbformat": 4,
 "nbformat_minor": 2
}
